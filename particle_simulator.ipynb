{
 "cells": [
  {
   "cell_type": "code",
   "execution_count": 4,
   "metadata": {
    "colab": {
     "base_uri": "https://localhost:8080/"
    },
    "id": "KBidjvbSS78o",
    "outputId": "97784414-7075-4856-a0a2-6a0c26eeef9b",
    "scrolled": true
   },
   "outputs": [
    {
     "name": "stdout",
     "output_type": "stream",
     "text": [
      "[29]\n",
      "C:\\Users\\Ankur\\Adarsh kashyap\n",
      "Movie created: output_movie.mp4\n"
     ]
    }
   ],
   "source": [
    "import numpy as np\n",
    "import pandas as pd\n",
    "import matplotlib.pyplot as plt\n",
    "import random\n",
    "import math\n",
    "import cv2\n",
    "import os\n",
    "values=[]\n",
    "new_values=[]\n",
    "values_1=[]\n",
    "new_values_1=[]\n",
    "for i in range(0,1):\n",
    "    random_number= random.randint(1, 100)\n",
    "    values.append(random_number)\n",
    "\n",
    "for k in range(0,1):\n",
    "    new_values.append([0]*100)\n",
    "\n",
    "for l in range(0,1):\n",
    "    random_number= random.randint(1, 100)\n",
    "    values_1.append(random_number)\n",
    "\n",
    "for m in range(0,1):\n",
    "    new_values_1.append([0]*100)\n",
    "    \n",
    "print(values)\n",
    "\n",
    "notebook_path = os.getcwd()\n",
    "print(notebook_path)\n",
    "    \n",
    "\n",
    "\n",
    "for k in range(0,1):\n",
    "    for j in range(0,100):\n",
    "        new_values[k][j]=values[k]*math.sin(j)\n",
    "        new_values_1[k][j]=values_1[k]*math.cos(j)\n",
    "        plt.xlim(0,100)\n",
    "        plt.ylim(-100,100)\n",
    "        plt.plot([j],new_values[k][j],'ro')\n",
    "        plt.plot([j],new_values_1[k][j],'go')\n",
    "        plt.title(f\"Plot {str(j).zfill(3)}\")\n",
    "        plt.savefig(f\"plot_{str(j).zfill(3)}.png\")\n",
    "        plt.close()\n",
    "\n",
    "\n",
    "# Set the path to the directory containing your images\n",
    "image_directory = 'C:\\\\Users\\\\Ankur\\\\Adarsh kashyap'\n",
    "\n",
    "# Get a list of all image filenames in the directory\n",
    "image_files = sorted([f for f in os.listdir(image_directory) if f.endswith('.png')])\n",
    "\n",
    "# Get the image dimensions from the first image (assuming all images have the same dimensions)\n",
    "first_image_path = os.path.join(image_directory, image_files[0])\n",
    "first_image = cv2.imread(first_image_path)\n",
    "height, width, _ = first_image.shape\n",
    "\n",
    "# Set the output video filename\n",
    "output_video_filename = 'output_movie.mp4'\n",
    "\n",
    "# Define the video writer\n",
    "fourcc = cv2.VideoWriter_fourcc(*'mp4v')\n",
    "fps = 10  # Lower the frame rate to slow down the video\n",
    "video_writer = cv2.VideoWriter(output_video_filename, fourcc, fps, (width, height))\n",
    "\n",
    "# Combine images into a video with a delay of 100 milliseconds between each frame\n",
    "for image_file in image_files:\n",
    "    image_path = os.path.join(image_directory, image_file)\n",
    "    image = cv2.imread(image_path)\n",
    "\n",
    "    # Write the image to the video\n",
    "    video_writer.write(image)\n",
    "\n",
    "    # Add a delay to control the video speed\n",
    "    cv2.waitKey(100)  # 100 milliseconds\n",
    "\n",
    "# Release the video writer and close the video file\n",
    "video_writer.release()\n",
    "\n",
    "print(f\"Movie created: {output_video_filename}\")"
   ]
  }
 ],
 "metadata": {
  "colab": {
   "provenance": []
  },
  "kernelspec": {
   "display_name": "Python 3 (ipykernel)",
   "language": "python",
   "name": "python3"
  },
  "language_info": {
   "codemirror_mode": {
    "name": "ipython",
    "version": 3
   },
   "file_extension": ".py",
   "mimetype": "text/x-python",
   "name": "python",
   "nbconvert_exporter": "python",
   "pygments_lexer": "ipython3",
   "version": "3.11.4"
  }
 },
 "nbformat": 4,
 "nbformat_minor": 1
}
